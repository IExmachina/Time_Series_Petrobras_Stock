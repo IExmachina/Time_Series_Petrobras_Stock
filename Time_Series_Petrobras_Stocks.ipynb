{
  "nbformat": 4,
  "nbformat_minor": 0,
  "metadata": {
    "colab": {
      "name": "Time_Series_Petrobras_Stocks.ipynb",
      "provenance": [],
      "collapsed_sections": []
    },
    "kernelspec": {
      "name": "python3",
      "display_name": "Python 3"
    },
    "language_info": {
      "name": "python"
    }
  },
  "cells": [
    {
      "cell_type": "markdown",
      "metadata": {
        "id": "uEEEJrMSJ9Kf"
      },
      "source": [
        "# Data Science Project Time Series - Petrobras Stock Price\n",
        "The objective of this project is to forecast stock prices for the company Petrobras, a state-owned Brazilian multinational corporation in the petroleum industry. \n",
        "We have the stock prices of 2013 to 2018.\n",
        "For this, we will use a Recurrent Neural Network (LSTM) and the Facebook Prophet algorithm. At the end we will compare the results between the models.\n",
        "Let's jump right in!\n"
      ]
    },
    {
      "cell_type": "code",
      "metadata": {
        "id": "VYKjq69zC7-A"
      },
      "source": [
        "# The necessary imports\n",
        "from keras.models import Sequential\n",
        "from keras.layers import Dense, Dropout, LSTM\n",
        "from sklearn.preprocessing import MinMaxScaler\n",
        "import numpy as np\n",
        "import pandas as pd\n",
        "import matplotlib.pyplot as plt"
      ],
      "execution_count": 1,
      "outputs": []
    },
    {
      "cell_type": "code",
      "metadata": {
        "colab": {
          "base_uri": "https://localhost:8080/",
          "height": 202
        },
        "id": "iKfZwviGC87s",
        "outputId": "7ee1581f-75ce-4ec8-aaad-5e20f0ca971c"
      },
      "source": [
        "# I already split the training and test data.\n",
        "# So let's load the training data first.\n",
        "df = pd.read_csv('/content/drive/MyDrive/Deep Learning de A á Z/Fontes/Deep learning/redes neurais recorrentes/petr4_treinamento.csv')\n",
        "df.head()"
      ],
      "execution_count": 2,
      "outputs": [
        {
          "output_type": "execute_result",
          "data": {
            "text/html": [
              "<div>\n",
              "<style scoped>\n",
              "    .dataframe tbody tr th:only-of-type {\n",
              "        vertical-align: middle;\n",
              "    }\n",
              "\n",
              "    .dataframe tbody tr th {\n",
              "        vertical-align: top;\n",
              "    }\n",
              "\n",
              "    .dataframe thead th {\n",
              "        text-align: right;\n",
              "    }\n",
              "</style>\n",
              "<table border=\"1\" class=\"dataframe\">\n",
              "  <thead>\n",
              "    <tr style=\"text-align: right;\">\n",
              "      <th></th>\n",
              "      <th>Date</th>\n",
              "      <th>Open</th>\n",
              "      <th>High</th>\n",
              "      <th>Low</th>\n",
              "      <th>Close</th>\n",
              "      <th>Adj Close</th>\n",
              "      <th>Volume</th>\n",
              "    </tr>\n",
              "  </thead>\n",
              "  <tbody>\n",
              "    <tr>\n",
              "      <th>0</th>\n",
              "      <td>2013-01-02</td>\n",
              "      <td>19.990000</td>\n",
              "      <td>20.209999</td>\n",
              "      <td>19.690001</td>\n",
              "      <td>19.690001</td>\n",
              "      <td>18.086271</td>\n",
              "      <td>30182600.0</td>\n",
              "    </tr>\n",
              "    <tr>\n",
              "      <th>1</th>\n",
              "      <td>2013-01-03</td>\n",
              "      <td>19.809999</td>\n",
              "      <td>20.400000</td>\n",
              "      <td>19.700001</td>\n",
              "      <td>20.400000</td>\n",
              "      <td>18.738441</td>\n",
              "      <td>30552600.0</td>\n",
              "    </tr>\n",
              "    <tr>\n",
              "      <th>2</th>\n",
              "      <td>2013-01-04</td>\n",
              "      <td>20.330000</td>\n",
              "      <td>20.620001</td>\n",
              "      <td>20.170000</td>\n",
              "      <td>20.430000</td>\n",
              "      <td>18.766001</td>\n",
              "      <td>36141000.0</td>\n",
              "    </tr>\n",
              "    <tr>\n",
              "      <th>3</th>\n",
              "      <td>2013-01-07</td>\n",
              "      <td>20.480000</td>\n",
              "      <td>20.670000</td>\n",
              "      <td>19.950001</td>\n",
              "      <td>20.080000</td>\n",
              "      <td>18.444506</td>\n",
              "      <td>28069600.0</td>\n",
              "    </tr>\n",
              "    <tr>\n",
              "      <th>4</th>\n",
              "      <td>2013-01-08</td>\n",
              "      <td>20.110001</td>\n",
              "      <td>20.230000</td>\n",
              "      <td>19.459999</td>\n",
              "      <td>19.500000</td>\n",
              "      <td>17.911745</td>\n",
              "      <td>29091300.0</td>\n",
              "    </tr>\n",
              "  </tbody>\n",
              "</table>\n",
              "</div>"
            ],
            "text/plain": [
              "         Date       Open       High  ...      Close  Adj Close      Volume\n",
              "0  2013-01-02  19.990000  20.209999  ...  19.690001  18.086271  30182600.0\n",
              "1  2013-01-03  19.809999  20.400000  ...  20.400000  18.738441  30552600.0\n",
              "2  2013-01-04  20.330000  20.620001  ...  20.430000  18.766001  36141000.0\n",
              "3  2013-01-07  20.480000  20.670000  ...  20.080000  18.444506  28069600.0\n",
              "4  2013-01-08  20.110001  20.230000  ...  19.500000  17.911745  29091300.0\n",
              "\n",
              "[5 rows x 7 columns]"
            ]
          },
          "metadata": {},
          "execution_count": 2
        }
      ]
    },
    {
      "cell_type": "code",
      "metadata": {
        "colab": {
          "base_uri": "https://localhost:8080/",
          "height": 0
        },
        "id": "ZUv3wKCEDivP",
        "outputId": "49787934-3685-488f-8bd9-86aae7d86ce4"
      },
      "source": [
        "df.shape"
      ],
      "execution_count": 4,
      "outputs": [
        {
          "output_type": "execute_result",
          "data": {
            "text/plain": [
              "(1242, 7)"
            ]
          },
          "metadata": {},
          "execution_count": 4
        }
      ]
    },
    {
      "cell_type": "code",
      "metadata": {
        "colab": {
          "base_uri": "https://localhost:8080/",
          "height": 0
        },
        "id": "it-wWfPlDmM_",
        "outputId": "205cb84a-4913-4b9b-f9ac-876d23002f55"
      },
      "source": [
        "df.info()"
      ],
      "execution_count": 6,
      "outputs": [
        {
          "output_type": "stream",
          "name": "stdout",
          "text": [
            "<class 'pandas.core.frame.DataFrame'>\n",
            "Int64Index: 1242 entries, 0 to 1244\n",
            "Data columns (total 7 columns):\n",
            " #   Column     Non-Null Count  Dtype  \n",
            "---  ------     --------------  -----  \n",
            " 0   Date       1242 non-null   object \n",
            " 1   Open       1242 non-null   float64\n",
            " 2   High       1242 non-null   float64\n",
            " 3   Low        1242 non-null   float64\n",
            " 4   Close      1242 non-null   float64\n",
            " 5   Adj Close  1242 non-null   float64\n",
            " 6   Volume     1242 non-null   float64\n",
            "dtypes: float64(6), object(1)\n",
            "memory usage: 77.6+ KB\n"
          ]
        }
      ]
    },
    {
      "cell_type": "code",
      "metadata": {
        "colab": {
          "base_uri": "https://localhost:8080/",
          "height": 278
        },
        "id": "x6U88HC7MkIh",
        "outputId": "0b76d6b1-6c71-4e7e-df16-92b040ce937d"
      },
      "source": [
        "# Let's look at our data\n",
        "df.plot(x='Date', y='Open', kind='line');"
      ],
      "execution_count": 51,
      "outputs": [
        {
          "output_type": "display_data",
          "data": {
            "image/png": "[encoded data removed]",
            "text/plain": [
              "<Figure size 432x288 with 1 Axes>"
            ]
          },
          "metadata": {
            "needs_background": "light"
          }
        }
      ]
    },
    {
      "cell_type": "markdown",
      "metadata": {
        "id": "daAmn-V_MwPA"
      },
      "source": [
        "# Data Preparation"
      ]
    },
    {
      "cell_type": "code",
      "metadata": {
        "id": "RNPYoWR0DCXj"
      },
      "source": [
        "# We have some null values, so I gonna drop them.\n",
        "df = df.dropna()\n",
        "\n",
        "# Here we are just saving the \"Open\" column, since with time series and RNN's, we just work with the variable that we want to predict, which in this case is the \"Open\" price.\n",
        "df_train = df.iloc[:, 1:2].values"
      ],
      "execution_count": 5,
      "outputs": []
    },
    {
      "cell_type": "code",
      "metadata": {
        "id": "P47OXEryDD5B"
      },
      "source": [
        "# To minimize the train time, I gonna scale the data.\n",
        "mms = MinMaxScaler(feature_range=(0,1))\n",
        "df_train_mms = mms.fit_transform(df_train)"
      ],
      "execution_count": 7,
      "outputs": []
    },
    {
      "cell_type": "markdown",
      "metadata": {
        "id": "nHehPBFKM48B"
      },
      "source": [
        "We are going to use 90 days to predict a price, that is, for each value that we want to predict, we will have 90 days prior as features.\n",
        "\n",
        "For that, let's make a for loop, which will take 90 values ​​and put in the features variable, and the value 91 will go to the real price variable. This will be done successively for all data. Remembering that the price '91' will be part of the features to predict the following value."
      ]
    },
    {
      "cell_type": "code",
      "metadata": {
        "id": "GB3xFWtwDFR0"
      },
      "source": [
        "\n",
        "features = []\n",
        "real_price = []\n",
        "\n",
        "\n",
        "for i in range(90, 1242):\n",
        "    features.append(df_train_mms[i-90:i, 0])  # i-90 is equal to 0, which is the indice that we will start to add on the features list.\n",
        "    real_price.append(df_train_mms[i, 0]) # The real price starts in the 90th index (the 91th price on the data), since we need 90 days to predict a price. \n",
        "\n"
      ],
      "execution_count": 8,
      "outputs": []
    },
    {
      "cell_type": "code",
      "metadata": {
        "id": "Poy2Zr67O0Xe"
      },
      "source": [
        "# now that we have our features, let's reshape them for the keras format needed. A 3D array.\n",
        "features, real_price = np.array(features), np.array(real_price)\n",
        "features = np.reshape(features, (features.shape[0], features.shape[1], 1))"
      ],
      "execution_count": null,
      "outputs": []
    },
    {
      "cell_type": "markdown",
      "metadata": {
        "id": "yyIh4l_lPAqK"
      },
      "source": [
        "# Modelling - LSTM"
      ]
    },
    {
      "cell_type": "code",
      "metadata": {
        "colab": {
          "base_uri": "https://localhost:8080/",
          "height": 0
        },
        "id": "jkKFgGOuDFtr",
        "outputId": "ed24f942-abb5-4e41-ffb7-b9e7eb79699e"
      },
      "source": [
        "# Let's build are RNN LSTM.\n",
        "\n",
        "regressor = Sequential()\n",
        "regressor.add(LSTM(units = 100, return_sequences = True, input_shape = (features.shape[1], 1)))\n",
        "regressor.add(Dropout(0.3))\n",
        "\n",
        "regressor.add(LSTM(units = 50, return_sequences = True))\n",
        "regressor.add(Dropout(0.3))\n",
        "\n",
        "regressor.add(LSTM(units = 50, return_sequences = True))\n",
        "regressor.add(Dropout(0.3))\n",
        "\n",
        "regressor.add(LSTM(units = 50))\n",
        "regressor.add(Dropout(0.3))\n",
        "\n",
        "regressor.add(Dense(units = 1, activation = 'linear'))\n",
        "\n",
        "regressor.compile(optimizer = 'rmsprop', loss = 'mean_squared_error',\n",
        "                  metrics = ['mean_absolute_error'])\n",
        "regressor.fit(features, real_price, epochs = 100, batch_size = 32)"
      ],
      "execution_count": 9,
      "outputs": [
        {
          "output_type": "stream",
          "name": "stdout",
          "text": [
            "Epoch 1/100\n",
            "36/36 [==============================] - 13s 179ms/step - loss: 0.0338 - mean_absolute_error: 0.1289\n",
            "Epoch 2/100\n",
            "36/36 [==============================] - 6s 176ms/step - loss: 0.0189 - mean_absolute_error: 0.1045\n",
            "Epoch 3/100\n",
            "36/36 [==============================] - 6s 178ms/step - loss: 0.0148 - mean_absolute_error: 0.0947\n",
            "Epoch 4/100\n",
            "36/36 [==============================] - 6s 176ms/step - loss: 0.0126 - mean_absolute_error: 0.0856\n",
            "Epoch 5/100\n",
            "36/36 [==============================] - 6s 176ms/step - loss: 0.0097 - mean_absolute_error: 0.0763\n",
            "Epoch 6/100\n",
            "36/36 [==============================] - 6s 175ms/step - loss: 0.0092 - mean_absolute_error: 0.0731\n",
            "Epoch 7/100\n",
            "36/36 [==============================] - 6s 175ms/step - loss: 0.0090 - mean_absolute_error: 0.0717\n",
            "Epoch 8/100\n",
            "36/36 [==============================] - 6s 175ms/step - loss: 0.0081 - mean_absolute_error: 0.0691\n",
            "Epoch 9/100\n",
            "36/36 [==============================] - 6s 173ms/step - loss: 0.0071 - mean_absolute_error: 0.0647\n",
            "Epoch 10/100\n",
            "36/36 [==============================] - 6s 176ms/step - loss: 0.0077 - mean_absolute_error: 0.0663\n",
            "Epoch 11/100\n",
            "36/36 [==============================] - 6s 171ms/step - loss: 0.0067 - mean_absolute_error: 0.0623\n",
            "Epoch 12/100\n",
            "36/36 [==============================] - 6s 173ms/step - loss: 0.0060 - mean_absolute_error: 0.0593\n",
            "Epoch 13/100\n",
            "36/36 [==============================] - 6s 175ms/step - loss: 0.0062 - mean_absolute_error: 0.0593\n",
            "Epoch 14/100\n",
            "36/36 [==============================] - 6s 174ms/step - loss: 0.0056 - mean_absolute_error: 0.0564\n",
            "Epoch 15/100\n",
            "36/36 [==============================] - 6s 178ms/step - loss: 0.0055 - mean_absolute_error: 0.0558\n",
            "Epoch 16/100\n",
            "36/36 [==============================] - 7s 192ms/step - loss: 0.0046 - mean_absolute_error: 0.0514\n",
            "Epoch 17/100\n",
            "36/36 [==============================] - 7s 199ms/step - loss: 0.0050 - mean_absolute_error: 0.0545\n",
            "Epoch 18/100\n",
            "36/36 [==============================] - 6s 174ms/step - loss: 0.0049 - mean_absolute_error: 0.0531\n",
            "Epoch 19/100\n",
            "36/36 [==============================] - 6s 174ms/step - loss: 0.0046 - mean_absolute_error: 0.0512\n",
            "Epoch 20/100\n",
            "36/36 [==============================] - 6s 174ms/step - loss: 0.0046 - mean_absolute_error: 0.0513\n",
            "Epoch 21/100\n",
            "36/36 [==============================] - 6s 173ms/step - loss: 0.0042 - mean_absolute_error: 0.0482\n",
            "Epoch 22/100\n",
            "36/36 [==============================] - 6s 173ms/step - loss: 0.0037 - mean_absolute_error: 0.0469\n",
            "Epoch 23/100\n",
            "36/36 [==============================] - 6s 175ms/step - loss: 0.0038 - mean_absolute_error: 0.0473\n",
            "Epoch 24/100\n",
            "36/36 [==============================] - 6s 174ms/step - loss: 0.0036 - mean_absolute_error: 0.0459\n",
            "Epoch 25/100\n",
            "36/36 [==============================] - 6s 174ms/step - loss: 0.0041 - mean_absolute_error: 0.0481\n",
            "Epoch 26/100\n",
            "36/36 [==============================] - 6s 179ms/step - loss: 0.0035 - mean_absolute_error: 0.0455\n",
            "Epoch 27/100\n",
            "36/36 [==============================] - 6s 179ms/step - loss: 0.0036 - mean_absolute_error: 0.0455\n",
            "Epoch 28/100\n",
            "36/36 [==============================] - 6s 177ms/step - loss: 0.0032 - mean_absolute_error: 0.0428\n",
            "Epoch 29/100\n",
            "36/36 [==============================] - 6s 178ms/step - loss: 0.0030 - mean_absolute_error: 0.0415\n",
            "Epoch 30/100\n",
            "36/36 [==============================] - 6s 176ms/step - loss: 0.0034 - mean_absolute_error: 0.0447\n",
            "Epoch 31/100\n",
            "36/36 [==============================] - 6s 177ms/step - loss: 0.0030 - mean_absolute_error: 0.0427\n",
            "Epoch 32/100\n",
            "36/36 [==============================] - 6s 175ms/step - loss: 0.0029 - mean_absolute_error: 0.0415\n",
            "Epoch 33/100\n",
            "36/36 [==============================] - 6s 174ms/step - loss: 0.0029 - mean_absolute_error: 0.0417\n",
            "Epoch 34/100\n",
            "36/36 [==============================] - 6s 177ms/step - loss: 0.0029 - mean_absolute_error: 0.0404\n",
            "Epoch 35/100\n",
            "36/36 [==============================] - 6s 178ms/step - loss: 0.0027 - mean_absolute_error: 0.0395\n",
            "Epoch 36/100\n",
            "36/36 [==============================] - 6s 177ms/step - loss: 0.0029 - mean_absolute_error: 0.0413\n",
            "Epoch 37/100\n",
            "36/36 [==============================] - 6s 176ms/step - loss: 0.0026 - mean_absolute_error: 0.0391\n",
            "Epoch 38/100\n",
            "36/36 [==============================] - 6s 175ms/step - loss: 0.0028 - mean_absolute_error: 0.0390\n",
            "Epoch 39/100\n",
            "36/36 [==============================] - 6s 177ms/step - loss: 0.0028 - mean_absolute_error: 0.0400\n",
            "Epoch 40/100\n",
            "36/36 [==============================] - 6s 176ms/step - loss: 0.0024 - mean_absolute_error: 0.0376\n",
            "Epoch 41/100\n",
            "36/36 [==============================] - 6s 179ms/step - loss: 0.0027 - mean_absolute_error: 0.0395\n",
            "Epoch 42/100\n",
            "36/36 [==============================] - 6s 177ms/step - loss: 0.0025 - mean_absolute_error: 0.0375\n",
            "Epoch 43/100\n",
            "36/36 [==============================] - 6s 175ms/step - loss: 0.0025 - mean_absolute_error: 0.0381\n",
            "Epoch 44/100\n",
            "36/36 [==============================] - 6s 175ms/step - loss: 0.0025 - mean_absolute_error: 0.0375\n",
            "Epoch 45/100\n",
            "36/36 [==============================] - 6s 175ms/step - loss: 0.0023 - mean_absolute_error: 0.0374\n",
            "Epoch 46/100\n",
            "36/36 [==============================] - 6s 175ms/step - loss: 0.0024 - mean_absolute_error: 0.0370\n",
            "Epoch 47/100\n",
            "36/36 [==============================] - 6s 176ms/step - loss: 0.0024 - mean_absolute_error: 0.0375\n",
            "Epoch 48/100\n",
            "36/36 [==============================] - 6s 174ms/step - loss: 0.0022 - mean_absolute_error: 0.0356\n",
            "Epoch 49/100\n",
            "36/36 [==============================] - 6s 176ms/step - loss: 0.0021 - mean_absolute_error: 0.0353\n",
            "Epoch 50/100\n",
            "36/36 [==============================] - 6s 178ms/step - loss: 0.0022 - mean_absolute_error: 0.0362\n",
            "Epoch 51/100\n",
            "36/36 [==============================] - 6s 176ms/step - loss: 0.0024 - mean_absolute_error: 0.0366\n",
            "Epoch 52/100\n",
            "36/36 [==============================] - 6s 176ms/step - loss: 0.0021 - mean_absolute_error: 0.0348\n",
            "Epoch 53/100\n",
            "36/36 [==============================] - 6s 177ms/step - loss: 0.0020 - mean_absolute_error: 0.0338\n",
            "Epoch 54/100\n",
            "36/36 [==============================] - 6s 176ms/step - loss: 0.0022 - mean_absolute_error: 0.0358\n",
            "Epoch 55/100\n",
            "36/36 [==============================] - 6s 180ms/step - loss: 0.0022 - mean_absolute_error: 0.0352\n",
            "Epoch 56/100\n",
            "36/36 [==============================] - 6s 176ms/step - loss: 0.0020 - mean_absolute_error: 0.0337\n",
            "Epoch 57/100\n",
            "36/36 [==============================] - 6s 176ms/step - loss: 0.0022 - mean_absolute_error: 0.0352\n",
            "Epoch 58/100\n",
            "36/36 [==============================] - 6s 177ms/step - loss: 0.0021 - mean_absolute_error: 0.0349\n",
            "Epoch 59/100\n",
            "36/36 [==============================] - 7s 183ms/step - loss: 0.0022 - mean_absolute_error: 0.0350\n",
            "Epoch 60/100\n",
            "36/36 [==============================] - 7s 182ms/step - loss: 0.0019 - mean_absolute_error: 0.0332\n",
            "Epoch 61/100\n",
            "36/36 [==============================] - 6s 177ms/step - loss: 0.0020 - mean_absolute_error: 0.0331\n",
            "Epoch 62/100\n",
            "36/36 [==============================] - 7s 181ms/step - loss: 0.0019 - mean_absolute_error: 0.0329\n",
            "Epoch 63/100\n",
            "36/36 [==============================] - 6s 178ms/step - loss: 0.0021 - mean_absolute_error: 0.0347\n",
            "Epoch 64/100\n",
            "36/36 [==============================] - 6s 178ms/step - loss: 0.0020 - mean_absolute_error: 0.0332\n",
            "Epoch 65/100\n",
            "36/36 [==============================] - 6s 175ms/step - loss: 0.0019 - mean_absolute_error: 0.0322\n",
            "Epoch 66/100\n",
            "36/36 [==============================] - 6s 176ms/step - loss: 0.0019 - mean_absolute_error: 0.0327\n",
            "Epoch 67/100\n",
            "36/36 [==============================] - 6s 175ms/step - loss: 0.0017 - mean_absolute_error: 0.0315\n",
            "Epoch 68/100\n",
            "36/36 [==============================] - 6s 178ms/step - loss: 0.0018 - mean_absolute_error: 0.0320\n",
            "Epoch 69/100\n",
            "36/36 [==============================] - 6s 175ms/step - loss: 0.0018 - mean_absolute_error: 0.0314\n",
            "Epoch 70/100\n",
            "36/36 [==============================] - 6s 177ms/step - loss: 0.0017 - mean_absolute_error: 0.0312\n",
            "Epoch 71/100\n",
            "36/36 [==============================] - 6s 176ms/step - loss: 0.0017 - mean_absolute_error: 0.0311\n",
            "Epoch 72/100\n",
            "36/36 [==============================] - 6s 175ms/step - loss: 0.0019 - mean_absolute_error: 0.0325\n",
            "Epoch 73/100\n",
            "36/36 [==============================] - 6s 174ms/step - loss: 0.0018 - mean_absolute_error: 0.0319\n",
            "Epoch 74/100\n",
            "36/36 [==============================] - 6s 176ms/step - loss: 0.0018 - mean_absolute_error: 0.0319\n",
            "Epoch 75/100\n",
            "36/36 [==============================] - 6s 177ms/step - loss: 0.0017 - mean_absolute_error: 0.0316\n",
            "Epoch 76/100\n",
            "36/36 [==============================] - 6s 176ms/step - loss: 0.0017 - mean_absolute_error: 0.0308\n",
            "Epoch 77/100\n",
            "36/36 [==============================] - 7s 184ms/step - loss: 0.0017 - mean_absolute_error: 0.0311\n",
            "Epoch 78/100\n",
            "36/36 [==============================] - 6s 178ms/step - loss: 0.0018 - mean_absolute_error: 0.0316\n",
            "Epoch 79/100\n",
            "36/36 [==============================] - 6s 176ms/step - loss: 0.0018 - mean_absolute_error: 0.0315\n",
            "Epoch 80/100\n",
            "36/36 [==============================] - 6s 178ms/step - loss: 0.0017 - mean_absolute_error: 0.0310\n",
            "Epoch 81/100\n",
            "36/36 [==============================] - 6s 176ms/step - loss: 0.0018 - mean_absolute_error: 0.0315\n",
            "Epoch 82/100\n",
            "36/36 [==============================] - 6s 175ms/step - loss: 0.0015 - mean_absolute_error: 0.0300\n",
            "Epoch 83/100\n",
            "36/36 [==============================] - 6s 178ms/step - loss: 0.0017 - mean_absolute_error: 0.0308\n",
            "Epoch 84/100\n",
            "36/36 [==============================] - 6s 174ms/step - loss: 0.0016 - mean_absolute_error: 0.0302\n",
            "Epoch 85/100\n",
            "36/36 [==============================] - 6s 175ms/step - loss: 0.0016 - mean_absolute_error: 0.0300\n",
            "Epoch 86/100\n",
            "36/36 [==============================] - 6s 181ms/step - loss: 0.0017 - mean_absolute_error: 0.0314\n",
            "Epoch 87/100\n",
            "36/36 [==============================] - 6s 179ms/step - loss: 0.0016 - mean_absolute_error: 0.0297\n",
            "Epoch 88/100\n",
            "36/36 [==============================] - 7s 181ms/step - loss: 0.0015 - mean_absolute_error: 0.0289\n",
            "Epoch 89/100\n",
            "36/36 [==============================] - 7s 181ms/step - loss: 0.0017 - mean_absolute_error: 0.0303\n",
            "Epoch 90/100\n",
            "36/36 [==============================] - 6s 178ms/step - loss: 0.0017 - mean_absolute_error: 0.0301\n",
            "Epoch 91/100\n",
            "36/36 [==============================] - 6s 179ms/step - loss: 0.0016 - mean_absolute_error: 0.0299\n",
            "Epoch 92/100\n",
            "36/36 [==============================] - 6s 179ms/step - loss: 0.0016 - mean_absolute_error: 0.0294\n",
            "Epoch 93/100\n",
            "36/36 [==============================] - 6s 179ms/step - loss: 0.0016 - mean_absolute_error: 0.0305\n",
            "Epoch 94/100\n",
            "36/36 [==============================] - 6s 180ms/step - loss: 0.0015 - mean_absolute_error: 0.0286\n",
            "Epoch 95/100\n",
            "36/36 [==============================] - 6s 180ms/step - loss: 0.0015 - mean_absolute_error: 0.0295\n",
            "Epoch 96/100\n",
            "36/36 [==============================] - 6s 180ms/step - loss: 0.0016 - mean_absolute_error: 0.0295\n",
            "Epoch 97/100\n",
            "36/36 [==============================] - 7s 181ms/step - loss: 0.0014 - mean_absolute_error: 0.0288\n",
            "Epoch 98/100\n",
            "36/36 [==============================] - 6s 179ms/step - loss: 0.0014 - mean_absolute_error: 0.0288\n",
            "Epoch 99/100\n",
            "36/36 [==============================] - 6s 179ms/step - loss: 0.0015 - mean_absolute_error: 0.0291\n",
            "Epoch 100/100\n",
            "36/36 [==============================] - 7s 181ms/step - loss: 0.0015 - mean_absolute_error: 0.0289\n"
          ]
        },
        {
          "output_type": "execute_result",
          "data": {
            "text/plain": [
              "<keras.callbacks.History at 0x7faf6349eed0>"
            ]
          },
          "metadata": {},
          "execution_count": 9
        }
      ]
    },
    {
      "cell_type": "markdown",
      "metadata": {
        "id": "2DvQ_jdIPLjo"
      },
      "source": [
        "We trained our neural network.\n",
        "See that the MAE metric reached 0.03, which is very good.\n",
        "But that was in the training data.\n",
        "Now let's load the test data and see if our model has generalized well and can follow the trend and seasonality of prices."
      ]
    },
    {
      "cell_type": "markdown",
      "metadata": {
        "id": "kqCLwHChPrkU"
      },
      "source": [
        "# Evaluating - LSTM"
      ]
    },
    {
      "cell_type": "code",
      "metadata": {
        "id": "fBnd3DSHDKOi"
      },
      "source": [
        "# loading the test data\n",
        "df_test = pd.read_csv('/content/drive/MyDrive/Deep Learning de A á Z/Fontes/Deep learning/redes neurais recorrentes/petr4_teste.csv')\n",
        "\n",
        "# Saving the real price for later evaluation\n",
        "real_price_test = df_test.iloc[:, 1:2].values\n",
        "\n",
        "# Concatenating the train and test data\n",
        "df_complete = pd.concat((df['Open'], df_test['Open']), axis = 0)\n",
        "\n",
        "# Gettig the 90 last values\n",
        "inputs = df_complete[len(df_complete) - len(df_test) - 90:].values\n",
        "inputs = inputs.reshape(-1, 1)\n",
        "# Scaling again\n",
        "inputs = mms.transform(inputs)\n"
      ],
      "execution_count": 11,
      "outputs": []
    },
    {
      "cell_type": "code",
      "metadata": {
        "id": "k9_unDPnDKtB"
      },
      "source": [
        "# Same loop as before, but now to get the test data.\n",
        "# Our test data have just 22 rows, so that is the number of prices that we want to predict here.\n",
        "X_test = []\n",
        "\n",
        "for i in range(90, 112):\n",
        "    X_test.append(inputs[i-90:i, 0])\n",
        "\n",
        "# Reshaping the test data for the keras format, a 3D array.\n",
        "X_test = np.array(X_test)\n",
        "X_test = np.reshape(X_test, (X_test.shape[0], X_test.shape[1], 1))\n"
      ],
      "execution_count": 12,
      "outputs": []
    },
    {
      "cell_type": "code",
      "metadata": {
        "colab": {
          "base_uri": "https://localhost:8080/",
          "height": 0
        },
        "id": "ARs2svN1Q4Mj",
        "outputId": "a8e4328f-e4be-40ef-bc35-254d96b8ef1c"
      },
      "source": [
        "X_test.shape"
      ],
      "execution_count": 52,
      "outputs": [
        {
          "output_type": "execute_result",
          "data": {
            "text/plain": [
              "(22, 90, 1)"
            ]
          },
          "metadata": {},
          "execution_count": 52
        }
      ]
    },
    {
      "cell_type": "code",
      "metadata": {
        "id": "14ldpLOnQR0F"
      },
      "source": [
        "# So let's make our predictions for 22 days.\n",
        "\n",
        "y_hat = regressor.predict(X_test)\n",
        "y_hat = mms.inverse_transform(y_hat)"
      ],
      "execution_count": null,
      "outputs": []
    },
    {
      "cell_type": "code",
      "metadata": {
        "colab": {
          "base_uri": "https://localhost:8080/",
          "height": 0
        },
        "id": "UaE8Y8mkDMd-",
        "outputId": "21fd1a7d-3d77-4dbd-f03f-706b55efb5a7"
      },
      "source": [
        "y_hat.mean(), real_price_test.mean()"
      ],
      "execution_count": 49,
      "outputs": [
        {
          "output_type": "execute_result",
          "data": {
            "text/plain": [
              "(17.53653, 17.87454563636364)"
            ]
          },
          "metadata": {},
          "execution_count": 49
        }
      ]
    },
    {
      "cell_type": "code",
      "metadata": {
        "colab": {
          "base_uri": "https://localhost:8080/",
          "height": 0
        },
        "id": "sNhVLwekRCbi",
        "outputId": "c178b055-d76d-4926-f796-cfdcda54ba03"
      },
      "source": [
        "from sklearn.metrics import mean_absolute_error\n",
        "mean_absolute_error(real_price_test, y_hat)"
      ],
      "execution_count": 53,
      "outputs": [
        {
          "output_type": "execute_result",
          "data": {
            "text/plain": [
              "0.3380156618596862"
            ]
          },
          "metadata": {},
          "execution_count": 53
        }
      ]
    },
    {
      "cell_type": "markdown",
      "metadata": {
        "id": "sIavFebRRN9V"
      },
      "source": [
        "Very good result!  Our model errs on average only 3 cents.\n",
        "\n",
        "Let's see in the graph whether the model followed the trend."
      ]
    },
    {
      "cell_type": "code",
      "metadata": {
        "colab": {
          "base_uri": "https://localhost:8080/",
          "height": 294
        },
        "id": "HsnjAwJSDORN",
        "outputId": "c03fe902-e797-43f5-f332-6a556e8ed4b0"
      },
      "source": [
        "plt.plot(real_price_test, color = 'red', label = 'Real Price')\n",
        "plt.plot(y_hat, color = 'blue', label = 'Predictions')\n",
        "plt.title('Stock Price Prediction')\n",
        "plt.xlabel('Time')\n",
        "plt.ylabel('Price')\n",
        "plt.legend()\n",
        "plt.show()"
      ],
      "execution_count": 54,
      "outputs": [
        {
          "output_type": "display_data",
          "data": {
            "image/png": "[encoded data removed]",
            "text/plain": [
              "<Figure size 432x288 with 1 Axes>"
            ]
          },
          "metadata": {
            "needs_background": "light"
          }
        }
      ]
    },
    {
      "cell_type": "markdown",
      "metadata": {
        "id": "wl8rHsC8Rr-z"
      },
      "source": [
        "The model had a great result and captured the market trend well!\n",
        "\n",
        "\n",
        "Now let's test Facebook's Prophet algorithm."
      ]
    },
    {
      "cell_type": "markdown",
      "metadata": {
        "id": "P16yOdoVHXdN"
      },
      "source": [
        "## Facebook Prophet\n",
        "\n",
        "Prophet needs the data in a custom format for it.\n",
        "The data needs to contain a column called \"ds\" with the dates, and a column called \"y\" with the variable that we want to predict.\n",
        "In this case it is the \"Open\" column."
      ]
    },
    {
      "cell_type": "code",
      "metadata": {
        "colab": {
          "base_uri": "https://localhost:8080/",
          "height": 414
        },
        "id": "XVhLu3bJIQRz",
        "outputId": "8a3bee77-5287-414f-da37-316da77c4a63"
      },
      "source": [
        "# Creating the full dataset\n",
        "complete = pd.concat([df, df_test])\n",
        "complete.head()"
      ],
      "execution_count": 32,
      "outputs": [
        {
          "output_type": "execute_result",
          "data": {
            "text/html": [
              "<div>\n",
              "<style scoped>\n",
              "    .dataframe tbody tr th:only-of-type {\n",
              "        vertical-align: middle;\n",
              "    }\n",
              "\n",
              "    .dataframe tbody tr th {\n",
              "        vertical-align: top;\n",
              "    }\n",
              "\n",
              "    .dataframe thead th {\n",
              "        text-align: right;\n",
              "    }\n",
              "</style>\n",
              "<table border=\"1\" class=\"dataframe\">\n",
              "  <thead>\n",
              "    <tr style=\"text-align: right;\">\n",
              "      <th></th>\n",
              "      <th>Date</th>\n",
              "      <th>Open</th>\n",
              "      <th>High</th>\n",
              "      <th>Low</th>\n",
              "      <th>Close</th>\n",
              "      <th>Adj Close</th>\n",
              "      <th>Volume</th>\n",
              "    </tr>\n",
              "  </thead>\n",
              "  <tbody>\n",
              "    <tr>\n",
              "      <th>0</th>\n",
              "      <td>2013-01-02</td>\n",
              "      <td>19.990000</td>\n",
              "      <td>20.209999</td>\n",
              "      <td>19.690001</td>\n",
              "      <td>19.690001</td>\n",
              "      <td>18.086271</td>\n",
              "      <td>30182600.0</td>\n",
              "    </tr>\n",
              "    <tr>\n",
              "      <th>1</th>\n",
              "      <td>2013-01-03</td>\n",
              "      <td>19.809999</td>\n",
              "      <td>20.400000</td>\n",
              "      <td>19.700001</td>\n",
              "      <td>20.400000</td>\n",
              "      <td>18.738441</td>\n",
              "      <td>30552600.0</td>\n",
              "    </tr>\n",
              "    <tr>\n",
              "      <th>2</th>\n",
              "      <td>2013-01-04</td>\n",
              "      <td>20.330000</td>\n",
              "      <td>20.620001</td>\n",
              "      <td>20.170000</td>\n",
              "      <td>20.430000</td>\n",
              "      <td>18.766001</td>\n",
              "      <td>36141000.0</td>\n",
              "    </tr>\n",
              "    <tr>\n",
              "      <th>3</th>\n",
              "      <td>2013-01-07</td>\n",
              "      <td>20.480000</td>\n",
              "      <td>20.670000</td>\n",
              "      <td>19.950001</td>\n",
              "      <td>20.080000</td>\n",
              "      <td>18.444506</td>\n",
              "      <td>28069600.0</td>\n",
              "    </tr>\n",
              "    <tr>\n",
              "      <th>4</th>\n",
              "      <td>2013-01-08</td>\n",
              "      <td>20.110001</td>\n",
              "      <td>20.230000</td>\n",
              "      <td>19.459999</td>\n",
              "      <td>19.500000</td>\n",
              "      <td>17.911745</td>\n",
              "      <td>29091300.0</td>\n",
              "    </tr>\n",
              "    <tr>\n",
              "      <th>...</th>\n",
              "      <td>...</td>\n",
              "      <td>...</td>\n",
              "      <td>...</td>\n",
              "      <td>...</td>\n",
              "      <td>...</td>\n",
              "      <td>...</td>\n",
              "      <td>...</td>\n",
              "    </tr>\n",
              "    <tr>\n",
              "      <th>17</th>\n",
              "      <td>2018-01-25</td>\n",
              "      <td>19.340000</td>\n",
              "      <td>19.340000</td>\n",
              "      <td>19.340000</td>\n",
              "      <td>19.340000</td>\n",
              "      <td>19.301397</td>\n",
              "      <td>0.0</td>\n",
              "    </tr>\n",
              "    <tr>\n",
              "      <th>18</th>\n",
              "      <td>2018-01-26</td>\n",
              "      <td>19.620001</td>\n",
              "      <td>19.980000</td>\n",
              "      <td>19.100000</td>\n",
              "      <td>19.930000</td>\n",
              "      <td>19.890221</td>\n",
              "      <td>81989500.0</td>\n",
              "    </tr>\n",
              "    <tr>\n",
              "      <th>19</th>\n",
              "      <td>2018-01-29</td>\n",
              "      <td>19.670000</td>\n",
              "      <td>20.049999</td>\n",
              "      <td>19.570000</td>\n",
              "      <td>19.850000</td>\n",
              "      <td>19.810381</td>\n",
              "      <td>55726200.0</td>\n",
              "    </tr>\n",
              "    <tr>\n",
              "      <th>20</th>\n",
              "      <td>2018-01-30</td>\n",
              "      <td>19.770000</td>\n",
              "      <td>19.770000</td>\n",
              "      <td>19.360001</td>\n",
              "      <td>19.490000</td>\n",
              "      <td>19.451097</td>\n",
              "      <td>46203000.0</td>\n",
              "    </tr>\n",
              "    <tr>\n",
              "      <th>21</th>\n",
              "      <td>2018-01-31</td>\n",
              "      <td>19.740000</td>\n",
              "      <td>19.930000</td>\n",
              "      <td>19.680000</td>\n",
              "      <td>19.700001</td>\n",
              "      <td>19.660681</td>\n",
              "      <td>41576600.0</td>\n",
              "    </tr>\n",
              "  </tbody>\n",
              "</table>\n",
              "<p>1264 rows × 7 columns</p>\n",
              "</div>"
            ],
            "text/plain": [
              "          Date       Open       High  ...      Close  Adj Close      Volume\n",
              "0   2013-01-02  19.990000  20.209999  ...  19.690001  18.086271  30182600.0\n",
              "1   2013-01-03  19.809999  20.400000  ...  20.400000  18.738441  30552600.0\n",
              "2   2013-01-04  20.330000  20.620001  ...  20.430000  18.766001  36141000.0\n",
              "3   2013-01-07  20.480000  20.670000  ...  20.080000  18.444506  28069600.0\n",
              "4   2013-01-08  20.110001  20.230000  ...  19.500000  17.911745  29091300.0\n",
              "..         ...        ...        ...  ...        ...        ...         ...\n",
              "17  2018-01-25  19.340000  19.340000  ...  19.340000  19.301397         0.0\n",
              "18  2018-01-26  19.620001  19.980000  ...  19.930000  19.890221  81989500.0\n",
              "19  2018-01-29  19.670000  20.049999  ...  19.850000  19.810381  55726200.0\n",
              "20  2018-01-30  19.770000  19.770000  ...  19.490000  19.451097  46203000.0\n",
              "21  2018-01-31  19.740000  19.930000  ...  19.700001  19.660681  41576600.0\n",
              "\n",
              "[1264 rows x 7 columns]"
            ]
          },
          "metadata": {},
          "execution_count": 32
        }
      ]
    },
    {
      "cell_type": "code",
      "metadata": {
        "colab": {
          "base_uri": "https://localhost:8080/",
          "height": 0
        },
        "id": "yEoaL4NPmHUo",
        "outputId": "b0aa8c02-422f-4ef4-fb56-0084fce15536"
      },
      "source": [
        "# Here we are saving just the 2 columns needed for the prophet and renaming the columns.\n",
        "df2 = complete[['Date', \"Open\"]] \n",
        "df2.rename(columns={\"Date\" : 'ds', \"Open\": 'y'}, inplace=True)"
      ],
      "execution_count": 33,
      "outputs": [
        {
          "output_type": "stream",
          "name": "stderr",
          "text": [
            "/usr/local/lib/python3.7/dist-packages/pandas/core/frame.py:4308: SettingWithCopyWarning:\n",
            "\n",
            "\n",
            "A value is trying to be set on a copy of a slice from a DataFrame\n",
            "\n",
            "See the caveats in the documentation: https://pandas.pydata.org/pandas-docs/stable/user_guide/indexing.html#returning-a-view-versus-a-copy\n",
            "\n"
          ]
        }
      ]
    },
    {
      "cell_type": "code",
      "metadata": {
        "colab": {
          "base_uri": "https://localhost:8080/",
          "height": 414
        },
        "id": "7cGHTE15meZR",
        "outputId": "335fb782-75ba-4f75-d379-55f9c524d34f"
      },
      "source": [
        "# Are new dataframe for the prophet.\n",
        "df2"
      ],
      "execution_count": 34,
      "outputs": [
        {
          "output_type": "execute_result",
          "data": {
            "text/html": [
              "<div>\n",
              "<style scoped>\n",
              "    .dataframe tbody tr th:only-of-type {\n",
              "        vertical-align: middle;\n",
              "    }\n",
              "\n",
              "    .dataframe tbody tr th {\n",
              "        vertical-align: top;\n",
              "    }\n",
              "\n",
              "    .dataframe thead th {\n",
              "        text-align: right;\n",
              "    }\n",
              "</style>\n",
              "<table border=\"1\" class=\"dataframe\">\n",
              "  <thead>\n",
              "    <tr style=\"text-align: right;\">\n",
              "      <th></th>\n",
              "      <th>ds</th>\n",
              "      <th>y</th>\n",
              "    </tr>\n",
              "  </thead>\n",
              "  <tbody>\n",
              "    <tr>\n",
              "      <th>0</th>\n",
              "      <td>2013-01-02</td>\n",
              "      <td>19.990000</td>\n",
              "    </tr>\n",
              "    <tr>\n",
              "      <th>1</th>\n",
              "      <td>2013-01-03</td>\n",
              "      <td>19.809999</td>\n",
              "    </tr>\n",
              "    <tr>\n",
              "      <th>2</th>\n",
              "      <td>2013-01-04</td>\n",
              "      <td>20.330000</td>\n",
              "    </tr>\n",
              "    <tr>\n",
              "      <th>3</th>\n",
              "      <td>2013-01-07</td>\n",
              "      <td>20.480000</td>\n",
              "    </tr>\n",
              "    <tr>\n",
              "      <th>4</th>\n",
              "      <td>2013-01-08</td>\n",
              "      <td>20.110001</td>\n",
              "    </tr>\n",
              "    <tr>\n",
              "      <th>...</th>\n",
              "      <td>...</td>\n",
              "      <td>...</td>\n",
              "    </tr>\n",
              "    <tr>\n",
              "      <th>17</th>\n",
              "      <td>2018-01-25</td>\n",
              "      <td>19.340000</td>\n",
              "    </tr>\n",
              "    <tr>\n",
              "      <th>18</th>\n",
              "      <td>2018-01-26</td>\n",
              "      <td>19.620001</td>\n",
              "    </tr>\n",
              "    <tr>\n",
              "      <th>19</th>\n",
              "      <td>2018-01-29</td>\n",
              "      <td>19.670000</td>\n",
              "    </tr>\n",
              "    <tr>\n",
              "      <th>20</th>\n",
              "      <td>2018-01-30</td>\n",
              "      <td>19.770000</td>\n",
              "    </tr>\n",
              "    <tr>\n",
              "      <th>21</th>\n",
              "      <td>2018-01-31</td>\n",
              "      <td>19.740000</td>\n",
              "    </tr>\n",
              "  </tbody>\n",
              "</table>\n",
              "<p>1264 rows × 2 columns</p>\n",
              "</div>"
            ],
            "text/plain": [
              "            ds          y\n",
              "0   2013-01-02  19.990000\n",
              "1   2013-01-03  19.809999\n",
              "2   2013-01-04  20.330000\n",
              "3   2013-01-07  20.480000\n",
              "4   2013-01-08  20.110001\n",
              "..         ...        ...\n",
              "17  2018-01-25  19.340000\n",
              "18  2018-01-26  19.620001\n",
              "19  2018-01-29  19.670000\n",
              "20  2018-01-30  19.770000\n",
              "21  2018-01-31  19.740000\n",
              "\n",
              "[1264 rows x 2 columns]"
            ]
          },
          "metadata": {},
          "execution_count": 34
        }
      ]
    },
    {
      "cell_type": "code",
      "metadata": {
        "colab": {
          "base_uri": "https://localhost:8080/",
          "height": 278
        },
        "id": "tPKP4Z8dmkoy",
        "outputId": "a92e0827-df7c-4aea-9c19-cd375603a170"
      },
      "source": [
        "df2.plot(x='ds', y='y', kind='line');"
      ],
      "execution_count": 35,
      "outputs": [
        {
          "output_type": "display_data",
          "data": {
            "image/png": "[encoded data removed]",
            "text/plain": [
              "<Figure size 432x288 with 1 Axes>"
            ]
          },
          "metadata": {
            "needs_background": "light"
          }
        }
      ]
    },
    {
      "cell_type": "markdown",
      "metadata": {
        "id": "T8aATVU5Yil8"
      },
      "source": [
        "Lastly, let's remove the last 22 records from the dataset and pass the rest to Prophet to train.\n",
        "Then we will make a forecast  for the next 22 records and compare the forecast results with the actual ones, just like we did with RNN."
      ]
    },
    {
      "cell_type": "code",
      "metadata": {
        "id": "pbSWPuBWpHCZ"
      },
      "source": [
        "# getting all rows, except the last 22.\n",
        "train = df2[:-22]"
      ],
      "execution_count": null,
      "outputs": []
    },
    {
      "cell_type": "code",
      "metadata": {
        "colab": {
          "base_uri": "https://localhost:8080/",
          "height": 0
        },
        "id": "aNN_IW86phNa",
        "outputId": "888d8623-bbb8-48e2-d6c3-23a123334b4b"
      },
      "source": [
        "train.shape"
      ],
      "execution_count": 57,
      "outputs": [
        {
          "output_type": "execute_result",
          "data": {
            "text/plain": [
              "(1242, 2)"
            ]
          },
          "metadata": {},
          "execution_count": 57
        }
      ]
    },
    {
      "cell_type": "code",
      "metadata": {
        "id": "VO-_MbCWplw5"
      },
      "source": [
        "# getting the last 22 rows.\n",
        "test = df2.tail(22)"
      ],
      "execution_count": null,
      "outputs": []
    },
    {
      "cell_type": "code",
      "metadata": {
        "colab": {
          "base_uri": "https://localhost:8080/",
          "height": 0
        },
        "id": "QKfCvEOspvtA",
        "outputId": "7528f3d1-de3a-41a8-ef3a-95b3620be891"
      },
      "source": [
        "test.shape"
      ],
      "execution_count": 56,
      "outputs": [
        {
          "output_type": "execute_result",
          "data": {
            "text/plain": [
              "(22, 2)"
            ]
          },
          "metadata": {},
          "execution_count": 56
        }
      ]
    },
    {
      "cell_type": "markdown",
      "metadata": {
        "id": "t33lhhnWWT46"
      },
      "source": [
        "# Modelling - Prophet"
      ]
    },
    {
      "cell_type": "code",
      "metadata": {
        "id": "5EXiXnymoFNU"
      },
      "source": [
        "from fbprophet import Prophet"
      ],
      "execution_count": 36,
      "outputs": []
    },
    {
      "cell_type": "code",
      "metadata": {
        "id": "6WrkCeNPoKqx"
      },
      "source": [
        "# Creating the model\n",
        "m = Prophet(interval_width=0.95, daily_seasonality=True)\n",
        "model = m.fit(train)"
      ],
      "execution_count": 58,
      "outputs": []
    },
    {
      "cell_type": "code",
      "metadata": {
        "colab": {
          "base_uri": "https://localhost:8080/",
          "height": 601
        },
        "id": "NnHPIRMpoMyN",
        "outputId": "70a0061a-ddac-4418-86a4-e2fa50761242"
      },
      "source": [
        "# this is a variable that contains the period that we wanna to predict. As I said before, we wanna to predict 22 days.\n",
        "future = m.make_future_dataframe(periods=22,freq='D')\n",
        "\n",
        "# Making the predictions\n",
        "forecast = m.predict(future)\n",
        "forecast"
      ],
      "execution_count": 59,
      "outputs": [
        {
          "output_type": "execute_result",
          "data": {
            "text/html": [
              "<div>\n",
              "<style scoped>\n",
              "    .dataframe tbody tr th:only-of-type {\n",
              "        vertical-align: middle;\n",
              "    }\n",
              "\n",
              "    .dataframe tbody tr th {\n",
              "        vertical-align: top;\n",
              "    }\n",
              "\n",
              "    .dataframe thead th {\n",
              "        text-align: right;\n",
              "    }\n",
              "</style>\n",
              "<table border=\"1\" class=\"dataframe\">\n",
              "  <thead>\n",
              "    <tr style=\"text-align: right;\">\n",
              "      <th></th>\n",
              "      <th>ds</th>\n",
              "      <th>trend</th>\n",
              "      <th>yhat_lower</th>\n",
              "      <th>yhat_upper</th>\n",
              "      <th>trend_lower</th>\n",
              "      <th>trend_upper</th>\n",
              "      <th>additive_terms</th>\n",
              "      <th>additive_terms_lower</th>\n",
              "      <th>additive_terms_upper</th>\n",
              "      <th>daily</th>\n",
              "      <th>daily_lower</th>\n",
              "      <th>daily_upper</th>\n",
              "      <th>weekly</th>\n",
              "      <th>weekly_lower</th>\n",
              "      <th>weekly_upper</th>\n",
              "      <th>yearly</th>\n",
              "      <th>yearly_lower</th>\n",
              "      <th>yearly_upper</th>\n",
              "      <th>multiplicative_terms</th>\n",
              "      <th>multiplicative_terms_lower</th>\n",
              "      <th>multiplicative_terms_upper</th>\n",
              "      <th>yhat</th>\n",
              "    </tr>\n",
              "  </thead>\n",
              "  <tbody>\n",
              "    <tr>\n",
              "      <th>0</th>\n",
              "      <td>2013-01-02</td>\n",
              "      <td>20.035269</td>\n",
              "      <td>16.889176</td>\n",
              "      <td>22.918446</td>\n",
              "      <td>20.035269</td>\n",
              "      <td>20.035269</td>\n",
              "      <td>-0.201099</td>\n",
              "      <td>-0.201099</td>\n",
              "      <td>-0.201099</td>\n",
              "      <td>0.679772</td>\n",
              "      <td>0.679772</td>\n",
              "      <td>0.679772</td>\n",
              "      <td>0.020553</td>\n",
              "      <td>0.020553</td>\n",
              "      <td>0.020553</td>\n",
              "      <td>-0.901424</td>\n",
              "      <td>-0.901424</td>\n",
              "      <td>-0.901424</td>\n",
              "      <td>0.0</td>\n",
              "      <td>0.0</td>\n",
              "      <td>0.0</td>\n",
              "      <td>19.834170</td>\n",
              "    </tr>\n",
              "    <tr>\n",
              "      <th>1</th>\n",
              "      <td>2013-01-03</td>\n",
              "      <td>20.018255</td>\n",
              "      <td>16.758439</td>\n",
              "      <td>22.868541</td>\n",
              "      <td>20.018255</td>\n",
              "      <td>20.018255</td>\n",
              "      <td>-0.224503</td>\n",
              "      <td>-0.224503</td>\n",
              "      <td>-0.224503</td>\n",
              "      <td>0.679772</td>\n",
              "      <td>0.679772</td>\n",
              "      <td>0.679772</td>\n",
              "      <td>0.036121</td>\n",
              "      <td>0.036121</td>\n",
              "      <td>0.036121</td>\n",
              "      <td>-0.940395</td>\n",
              "      <td>-0.940395</td>\n",
              "      <td>-0.940395</td>\n",
              "      <td>0.0</td>\n",
              "      <td>0.0</td>\n",
              "      <td>0.0</td>\n",
              "      <td>19.793752</td>\n",
              "    </tr>\n",
              "    <tr>\n",
              "      <th>2</th>\n",
              "      <td>2013-01-04</td>\n",
              "      <td>20.001241</td>\n",
              "      <td>16.741417</td>\n",
              "      <td>22.749750</td>\n",
              "      <td>20.001241</td>\n",
              "      <td>20.001241</td>\n",
              "      <td>-0.289187</td>\n",
              "      <td>-0.289187</td>\n",
              "      <td>-0.289187</td>\n",
              "      <td>0.679772</td>\n",
              "      <td>0.679772</td>\n",
              "      <td>0.679772</td>\n",
              "      <td>0.011155</td>\n",
              "      <td>0.011155</td>\n",
              "      <td>0.011155</td>\n",
              "      <td>-0.980114</td>\n",
              "      <td>-0.980114</td>\n",
              "      <td>-0.980114</td>\n",
              "      <td>0.0</td>\n",
              "      <td>0.0</td>\n",
              "      <td>0.0</td>\n",
              "      <td>19.712054</td>\n",
              "    </tr>\n",
              "    <tr>\n",
              "      <th>3</th>\n",
              "      <td>2013-01-07</td>\n",
              "      <td>19.950199</td>\n",
              "      <td>16.426339</td>\n",
              "      <td>22.612061</td>\n",
              "      <td>19.950199</td>\n",
              "      <td>19.950199</td>\n",
              "      <td>-0.357877</td>\n",
              "      <td>-0.357877</td>\n",
              "      <td>-0.357877</td>\n",
              "      <td>0.679772</td>\n",
              "      <td>0.679772</td>\n",
              "      <td>0.679772</td>\n",
              "      <td>0.065556</td>\n",
              "      <td>0.065556</td>\n",
              "      <td>0.065556</td>\n",
              "      <td>-1.103204</td>\n",
              "      <td>-1.103204</td>\n",
              "      <td>-1.103204</td>\n",
              "      <td>0.0</td>\n",
              "      <td>0.0</td>\n",
              "      <td>0.0</td>\n",
              "      <td>19.592322</td>\n",
              "    </tr>\n",
              "    <tr>\n",
              "      <th>4</th>\n",
              "      <td>2013-01-08</td>\n",
              "      <td>19.933185</td>\n",
              "      <td>16.231872</td>\n",
              "      <td>22.531464</td>\n",
              "      <td>19.933185</td>\n",
              "      <td>19.933185</td>\n",
              "      <td>-0.428990</td>\n",
              "      <td>-0.428990</td>\n",
              "      <td>-0.428990</td>\n",
              "      <td>0.679772</td>\n",
              "      <td>0.679772</td>\n",
              "      <td>0.679772</td>\n",
              "      <td>0.036557</td>\n",
              "      <td>0.036557</td>\n",
              "      <td>0.036557</td>\n",
              "      <td>-1.145319</td>\n",
              "      <td>-1.145319</td>\n",
              "      <td>-1.145319</td>\n",
              "      <td>0.0</td>\n",
              "      <td>0.0</td>\n",
              "      <td>0.0</td>\n",
              "      <td>19.504195</td>\n",
              "    </tr>\n",
              "    <tr>\n",
              "      <th>...</th>\n",
              "      <td>...</td>\n",
              "      <td>...</td>\n",
              "      <td>...</td>\n",
              "      <td>...</td>\n",
              "      <td>...</td>\n",
              "      <td>...</td>\n",
              "      <td>...</td>\n",
              "      <td>...</td>\n",
              "      <td>...</td>\n",
              "      <td>...</td>\n",
              "      <td>...</td>\n",
              "      <td>...</td>\n",
              "      <td>...</td>\n",
              "      <td>...</td>\n",
              "      <td>...</td>\n",
              "      <td>...</td>\n",
              "      <td>...</td>\n",
              "      <td>...</td>\n",
              "      <td>...</td>\n",
              "      <td>...</td>\n",
              "      <td>...</td>\n",
              "      <td>...</td>\n",
              "    </tr>\n",
              "    <tr>\n",
              "      <th>1259</th>\n",
              "      <td>2018-01-16</td>\n",
              "      <td>13.078824</td>\n",
              "      <td>9.143840</td>\n",
              "      <td>15.239954</td>\n",
              "      <td>13.003838</td>\n",
              "      <td>13.149246</td>\n",
              "      <td>-0.763342</td>\n",
              "      <td>-0.763342</td>\n",
              "      <td>-0.763342</td>\n",
              "      <td>0.679772</td>\n",
              "      <td>0.679772</td>\n",
              "      <td>0.679772</td>\n",
              "      <td>0.036557</td>\n",
              "      <td>0.036557</td>\n",
              "      <td>0.036557</td>\n",
              "      <td>-1.479670</td>\n",
              "      <td>-1.479670</td>\n",
              "      <td>-1.479670</td>\n",
              "      <td>0.0</td>\n",
              "      <td>0.0</td>\n",
              "      <td>0.0</td>\n",
              "      <td>12.315483</td>\n",
              "    </tr>\n",
              "    <tr>\n",
              "      <th>1260</th>\n",
              "      <td>2018-01-17</td>\n",
              "      <td>13.074993</td>\n",
              "      <td>9.247391</td>\n",
              "      <td>15.281192</td>\n",
              "      <td>12.987914</td>\n",
              "      <td>13.152098</td>\n",
              "      <td>-0.822377</td>\n",
              "      <td>-0.822377</td>\n",
              "      <td>-0.822377</td>\n",
              "      <td>0.679772</td>\n",
              "      <td>0.679772</td>\n",
              "      <td>0.679772</td>\n",
              "      <td>0.020553</td>\n",
              "      <td>0.020553</td>\n",
              "      <td>0.020553</td>\n",
              "      <td>-1.522702</td>\n",
              "      <td>-1.522702</td>\n",
              "      <td>-1.522702</td>\n",
              "      <td>0.0</td>\n",
              "      <td>0.0</td>\n",
              "      <td>0.0</td>\n",
              "      <td>12.252616</td>\n",
              "    </tr>\n",
              "    <tr>\n",
              "      <th>1261</th>\n",
              "      <td>2018-01-18</td>\n",
              "      <td>13.071163</td>\n",
              "      <td>9.289451</td>\n",
              "      <td>15.364285</td>\n",
              "      <td>12.978285</td>\n",
              "      <td>13.153047</td>\n",
              "      <td>-0.849546</td>\n",
              "      <td>-0.849546</td>\n",
              "      <td>-0.849546</td>\n",
              "      <td>0.679772</td>\n",
              "      <td>0.679772</td>\n",
              "      <td>0.679772</td>\n",
              "      <td>0.036121</td>\n",
              "      <td>0.036121</td>\n",
              "      <td>0.036121</td>\n",
              "      <td>-1.565439</td>\n",
              "      <td>-1.565439</td>\n",
              "      <td>-1.565439</td>\n",
              "      <td>0.0</td>\n",
              "      <td>0.0</td>\n",
              "      <td>0.0</td>\n",
              "      <td>12.221617</td>\n",
              "    </tr>\n",
              "    <tr>\n",
              "      <th>1262</th>\n",
              "      <td>2018-01-19</td>\n",
              "      <td>13.067332</td>\n",
              "      <td>8.845189</td>\n",
              "      <td>15.075605</td>\n",
              "      <td>12.966517</td>\n",
              "      <td>13.153848</td>\n",
              "      <td>-0.916860</td>\n",
              "      <td>-0.916860</td>\n",
              "      <td>-0.916860</td>\n",
              "      <td>0.679772</td>\n",
              "      <td>0.679772</td>\n",
              "      <td>0.679772</td>\n",
              "      <td>0.011155</td>\n",
              "      <td>0.011155</td>\n",
              "      <td>0.011155</td>\n",
              "      <td>-1.607787</td>\n",
              "      <td>-1.607787</td>\n",
              "      <td>-1.607787</td>\n",
              "      <td>0.0</td>\n",
              "      <td>0.0</td>\n",
              "      <td>0.0</td>\n",
              "      <td>12.150472</td>\n",
              "    </tr>\n",
              "    <tr>\n",
              "      <th>1263</th>\n",
              "      <td>2018-01-20</td>\n",
              "      <td>13.063501</td>\n",
              "      <td>9.030898</td>\n",
              "      <td>15.196204</td>\n",
              "      <td>12.947866</td>\n",
              "      <td>13.152093</td>\n",
              "      <td>-1.054845</td>\n",
              "      <td>-1.054845</td>\n",
              "      <td>-1.054845</td>\n",
              "      <td>0.679772</td>\n",
              "      <td>0.679772</td>\n",
              "      <td>0.679772</td>\n",
              "      <td>-0.084971</td>\n",
              "      <td>-0.084971</td>\n",
              "      <td>-0.084971</td>\n",
              "      <td>-1.649645</td>\n",
              "      <td>-1.649645</td>\n",
              "      <td>-1.649645</td>\n",
              "      <td>0.0</td>\n",
              "      <td>0.0</td>\n",
              "      <td>0.0</td>\n",
              "      <td>12.008656</td>\n",
              "    </tr>\n",
              "  </tbody>\n",
              "</table>\n",
              "<p>1264 rows × 22 columns</p>\n",
              "</div>"
            ],
            "text/plain": [
              "             ds      trend  ...  multiplicative_terms_upper       yhat\n",
              "0    2013-01-02  20.035269  ...                         0.0  19.834170\n",
              "1    2013-01-03  20.018255  ...                         0.0  19.793752\n",
              "2    2013-01-04  20.001241  ...                         0.0  19.712054\n",
              "3    2013-01-07  19.950199  ...                         0.0  19.592322\n",
              "4    2013-01-08  19.933185  ...                         0.0  19.504195\n",
              "...         ...        ...  ...                         ...        ...\n",
              "1259 2018-01-16  13.078824  ...                         0.0  12.315483\n",
              "1260 2018-01-17  13.074993  ...                         0.0  12.252616\n",
              "1261 2018-01-18  13.071163  ...                         0.0  12.221617\n",
              "1262 2018-01-19  13.067332  ...                         0.0  12.150472\n",
              "1263 2018-01-20  13.063501  ...                         0.0  12.008656\n",
              "\n",
              "[1264 rows x 22 columns]"
            ]
          },
          "metadata": {},
          "execution_count": 59
        }
      ]
    },
    {
      "cell_type": "markdown",
      "metadata": {
        "id": "sSluGqbtWz49"
      },
      "source": [
        "The Prophet model predictions contain several interesting metrics, including it gives us a confidence interval for the predictions.\n",
        "\n",
        "Let's just focus on the last column of this dataframe, which is the \"y_hat\" column that contains the predictions.\n",
        "\n",
        "But Prophet returns the entire dataset along with the predictions, so our predictions are the last 22 records of this dataframe."
      ]
    },
    {
      "cell_type": "code",
      "metadata": {
        "colab": {
          "base_uri": "https://localhost:8080/",
          "height": 441
        },
        "id": "jONqkHQEoV4B",
        "outputId": "47313192-c245-4235-a90b-a30b7d396ef0"
      },
      "source": [
        "# Here we can plot the graph with the real prices and with the predict ones.\n",
        "# We can see the trend also.\n",
        "plot1 = m.plot(forecast)"
      ],
      "execution_count": 60,
      "outputs": [
        {
          "output_type": "display_data",
          "data": {
            "image/png": "[encoded data removed]",
            "text/plain": [
              "<Figure size 720x432 with 1 Axes>"
            ]
          },
          "metadata": {}
        }
      ]
    },
    {
      "cell_type": "code",
      "metadata": {
        "colab": {
          "base_uri": "https://localhost:8080/",
          "height": 873
        },
        "id": "Cn7hYm3Zog9l",
        "outputId": "28785ba5-988b-439a-d722-31236234e953"
      },
      "source": [
        "# This function allows us to decompose are data, and see things such as the trend for year, week and day.\n",
        "plt2 = m.plot_components(forecast)"
      ],
      "execution_count": 40,
      "outputs": [
        {
          "output_type": "display_data",
          "data": {
            "image/png": "[encoded data removed]",
            "text/plain": [
              "<Figure size 648x864 with 4 Axes>"
            ]
          },
          "metadata": {}
        }
      ]
    },
    {
      "cell_type": "markdown",
      "metadata": {
        "id": "S2KtUHfVZRYF"
      },
      "source": [
        "So now, let's evaluate the Prophet results."
      ]
    },
    {
      "cell_type": "markdown",
      "metadata": {
        "id": "AO_bGuY-ZVEN"
      },
      "source": [
        "# Evaluation - Prophet"
      ]
    },
    {
      "cell_type": "code",
      "metadata": {
        "id": "sAYxYx36rmOS"
      },
      "source": [
        "# Getting the real 22 prices.\n",
        "real_price = test['y'].values\n",
        "\n",
        "# Getting the last 22 rows of the \"yhat\" colum.\n",
        "# As we said above, the Prophet adds the predictions to the original dataframe.\n",
        "predictions = forecast['yhat'].tail(22).values"
      ],
      "execution_count": 46,
      "outputs": []
    },
    {
      "cell_type": "code",
      "metadata": {
        "colab": {
          "base_uri": "https://localhost:8080/",
          "height": 0
        },
        "id": "PsEjFWMpsq9Z",
        "outputId": "c9e7b4a0-b833-430b-eb64-9e18d9b46ba5"
      },
      "source": [
        "from sklearn.metrics import mean_absolute_error\n",
        "mean_absolute_error(real_price, predictions)\n",
        "# we have a higher MAE"
      ],
      "execution_count": 47,
      "outputs": [
        {
          "output_type": "execute_result",
          "data": {
            "text/plain": [
              "4.396770329825301"
            ]
          },
          "metadata": {},
          "execution_count": 47
        }
      ]
    },
    {
      "cell_type": "code",
      "metadata": {
        "colab": {
          "base_uri": "https://localhost:8080/",
          "height": 294
        },
        "id": "8ybN5BS4sxh4",
        "outputId": "d32b2c91-3236-4912-ead2-b42a147397ac"
      },
      "source": [
        "# Let's plot\n",
        "plt.plot(real_price, color = 'red', label = 'Real Price')\n",
        "plt.plot(predictions, color = 'blue', label = 'Predictions')\n",
        "plt.title('Stock Price Prediction')\n",
        "plt.xlabel('Time')\n",
        "plt.ylabel('Price')\n",
        "plt.legend()\n",
        "plt.show()\n"
      ],
      "execution_count": 62,
      "outputs": [
        {
          "output_type": "display_data",
          "data": {
            "image/png": "[encoded data removed]",
            "text/plain": [
              "<Figure size 432x288 with 1 Axes>"
            ]
          },
          "metadata": {
            "needs_background": "light"
          }
        }
      ]
    },
    {
      "cell_type": "markdown",
      "metadata": {
        "id": "0OWtseKLZ5qv"
      },
      "source": [
        "# Conclusion:\n",
        "\n",
        "Our neural network was able to capture the trend in the stock price much better, and with an mean absolute error of only 0.3 cents.\n",
        "\n",
        "The Prophet algorithm failed to capture the trend well, and had an absolute mean error of 4 dollars.\n",
        "\n",
        "I believe that both models can be improved, either with more data or changing hyperparameters.\n",
        "\n",
        "\n",
        "So I close this time series project on Petrobras share prices.\n",
        "I hope that you enjoyed.\n",
        "See ya!"
      ]
    }
  ]
}